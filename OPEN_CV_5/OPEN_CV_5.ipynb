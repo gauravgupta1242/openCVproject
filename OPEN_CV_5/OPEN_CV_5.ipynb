{
 "cells": [
  {
   "cell_type": "code",
   "execution_count": 1,
   "metadata": {},
   "outputs": [],
   "source": [
    "import pandas as pd\n",
    "import cv2 \n",
    "import numpy as np"
   ]
  },
  {
   "cell_type": "code",
   "execution_count": null,
   "metadata": {},
   "outputs": [],
   "source": []
  },
  {
   "cell_type": "code",
   "execution_count": 2,
   "metadata": {},
   "outputs": [],
   "source": [
    "img1 = cv2.imread('watch.png')\n",
    "\n",
    "img2 = cv2.imread('dog.jpeg')\n",
    "\n",
    "dim = (678, 381)\n",
    "# resize image\n",
    "\n",
    "\n",
    "img1 = cv2.resize(img1, dim, interpolation = cv2.INTER_AREA)\n",
    "\n",
    "\n"
   ]
  },
  {
   "cell_type": "code",
   "execution_count": null,
   "metadata": {},
   "outputs": [],
   "source": [
    "# add = img1 + img2\n",
    "\n",
    "\n",
    "#add all pixel value of both image\n",
    "# add = cv2.add(img1 ,img2)\n",
    "\n",
    "#weighted = cv2.addWeighted(img1 , 0.6 ,img2 , 0.4,0 )\n",
    "\n",
    "rows , cols , channels = img2.shape\n",
    "\n",
    "roi = img1[0:rows,0:cols]\n",
    "\n",
    "img2gray = cv2.cvtColor(img2, cv2.COLOR_BGR2GRAY)\n",
    "ret , mask = cv2.threshold(img2gray , 110 , 255 , cv2.THRESH_BINARY_INV)\n",
    "\n",
    "cv2.imshow('mask',mask)\n",
    "\n",
    "\n",
    "#cv2.imshow('weighted',weighted)\n",
    "\n",
    "\n",
    "mask_inv = cv2.bitwise_not(mask)\n",
    "\n",
    "img1_bg = cv2.bitwise_and(roi,roi, mask = mask_inv)\n",
    "img2_fg = cv2.bitwise_and(img2,img2,mask=mask)\n",
    "\n",
    "dst = cv2.add(img1_bg , img2_fg)\n",
    "img1[0:rows,0:cols] = dst\n",
    "\n",
    "\n",
    "#cv2.imshow('res' , img1)\n",
    "cv2.imshow('mask_inv' , mask_inv)\n",
    "#cv2.imshow('img1_bg' , img1_bg)\n",
    "#cv2.imshow('img2_fg' , img2_fg)\n",
    "# cv2.imshow('dst' , dst)\n",
    "\n",
    "\n",
    "cv2.imwrite('mask_inv.jpg', mask_inv)\n",
    "cv2.imwrite('mask.jpg', mask)\n",
    "\n",
    "cv2.waitKey(0)\n",
    "\n",
    "cv2.destroyAllWindows()\n",
    "\n",
    "\n",
    "\n",
    "\n",
    "\n",
    "\n",
    "\n"
   ]
  },
  {
   "cell_type": "code",
   "execution_count": 31,
   "metadata": {},
   "outputs": [],
   "source": []
  },
  {
   "cell_type": "code",
   "execution_count": null,
   "metadata": {},
   "outputs": [],
   "source": []
  },
  {
   "cell_type": "code",
   "execution_count": null,
   "metadata": {},
   "outputs": [],
   "source": []
  },
  {
   "cell_type": "code",
   "execution_count": null,
   "metadata": {},
   "outputs": [],
   "source": []
  },
  {
   "cell_type": "code",
   "execution_count": null,
   "metadata": {},
   "outputs": [],
   "source": []
  },
  {
   "cell_type": "code",
   "execution_count": null,
   "metadata": {},
   "outputs": [],
   "source": []
  },
  {
   "cell_type": "code",
   "execution_count": null,
   "metadata": {},
   "outputs": [],
   "source": []
  },
  {
   "cell_type": "code",
   "execution_count": null,
   "metadata": {},
   "outputs": [],
   "source": []
  },
  {
   "cell_type": "code",
   "execution_count": null,
   "metadata": {},
   "outputs": [],
   "source": []
  },
  {
   "cell_type": "code",
   "execution_count": null,
   "metadata": {},
   "outputs": [],
   "source": []
  },
  {
   "cell_type": "code",
   "execution_count": null,
   "metadata": {},
   "outputs": [],
   "source": []
  },
  {
   "cell_type": "code",
   "execution_count": null,
   "metadata": {},
   "outputs": [],
   "source": []
  },
  {
   "cell_type": "code",
   "execution_count": null,
   "metadata": {},
   "outputs": [],
   "source": []
  },
  {
   "cell_type": "code",
   "execution_count": null,
   "metadata": {},
   "outputs": [],
   "source": []
  },
  {
   "cell_type": "code",
   "execution_count": null,
   "metadata": {},
   "outputs": [],
   "source": []
  },
  {
   "cell_type": "code",
   "execution_count": null,
   "metadata": {},
   "outputs": [],
   "source": []
  },
  {
   "cell_type": "code",
   "execution_count": null,
   "metadata": {},
   "outputs": [],
   "source": []
  },
  {
   "cell_type": "code",
   "execution_count": null,
   "metadata": {},
   "outputs": [],
   "source": []
  },
  {
   "cell_type": "code",
   "execution_count": null,
   "metadata": {},
   "outputs": [],
   "source": []
  },
  {
   "cell_type": "code",
   "execution_count": null,
   "metadata": {},
   "outputs": [],
   "source": []
  },
  {
   "cell_type": "code",
   "execution_count": null,
   "metadata": {},
   "outputs": [],
   "source": []
  },
  {
   "cell_type": "code",
   "execution_count": null,
   "metadata": {},
   "outputs": [],
   "source": []
  }
 ],
 "metadata": {
  "kernelspec": {
   "display_name": "Python 3",
   "language": "python",
   "name": "python3"
  },
  "language_info": {
   "codemirror_mode": {
    "name": "ipython",
    "version": 3
   },
   "file_extension": ".py",
   "mimetype": "text/x-python",
   "name": "python",
   "nbconvert_exporter": "python",
   "pygments_lexer": "ipython3",
   "version": "3.6.8"
  }
 },
 "nbformat": 4,
 "nbformat_minor": 2
}

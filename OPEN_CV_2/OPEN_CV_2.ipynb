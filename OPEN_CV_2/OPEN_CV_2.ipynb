{
 "cells": [
  {
   "cell_type": "code",
   "execution_count": 1,
   "metadata": {},
   "outputs": [],
   "source": [
    "import cv2\n",
    "import numpy as np\n",
    "\n",
    "\n",
    "cap = cv2.VideoCapture(0)\n",
    "\n",
    "\n",
    "fourcc = cv2.VideoWriter_fourcc(*'XVID')\n",
    "#saving the video as output.avi\n",
    "out = cv2.VideoWriter('output.avi' , fourcc, 20.0, (640,480) )\n",
    "\n",
    "# a infinte loop which actually take the frame and combine them to form a video\n",
    "# \n",
    "while True:\n",
    "    ret , frame = cap.read()\n",
    "    gray = cv2.cvtColor(frame , cv2.COLOR_BGR2GRAY)\n",
    "    \n",
    "    # writing frame\n",
    "    out.write(frame)\n",
    "    \n",
    "    #screen1 for RGB colour    \n",
    "    cv2.imshow('frame',frame )\n",
    "    #screen2 for gray colour \n",
    "    cv2.imshow('gray',gray )\n",
    "    # loop break on typing 'q' through keyboard and let out from stopping webcam\n",
    "    if cv2.waitKey(1) & 0xFF == ord('q'):\n",
    "        break\n",
    "        \n",
    "        \n",
    "cap.release()     \n",
    "out.release()\n",
    "cv2.destroyAllWindows()"
   ]
  }
 ],
 "metadata": {
  "kernelspec": {
   "display_name": "Python 3",
   "language": "python",
   "name": "python3"
  },
  "language_info": {
   "codemirror_mode": {
    "name": "ipython",
    "version": 3
   },
   "file_extension": ".py",
   "mimetype": "text/x-python",
   "name": "python",
   "nbconvert_exporter": "python",
   "pygments_lexer": "ipython3",
   "version": "3.6.8"
  }
 },
 "nbformat": 4,
 "nbformat_minor": 2
}
